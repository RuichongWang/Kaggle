{
 "cells": [
  {
   "cell_type": "markdown",
   "metadata": {
    "papermill": {
     "duration": 0.005906,
     "end_time": "2021-01-11T21:51:45.942411",
     "exception": false,
     "start_time": "2021-01-11T21:51:45.936505",
     "status": "completed"
    },
    "tags": []
   },
   "source": [
    "# RAPIDS KNN categorial average predicted Distance, can it be used as features?\n",
    "Reference: https://www.kaggle.com/cdeotte/rapids-knn-30-seconds-0-938"
   ]
  },
  {
   "cell_type": "code",
   "execution_count": 1,
   "metadata": {
    "_cell_guid": "b1076dfc-b9ad-4769-8c92-a6c4dae69d19",
    "_uuid": "8f2839f25d086af736a60e9eeb907d3b93b6e0e5",
    "execution": {
     "iopub.execute_input": "2021-01-11T21:51:45.968693Z",
     "iopub.status.busy": "2021-01-11T21:51:45.967855Z",
     "iopub.status.idle": "2021-01-11T21:51:47.890306Z",
     "shell.execute_reply": "2021-01-11T21:51:47.889641Z"
    },
    "papermill": {
     "duration": 1.943013,
     "end_time": "2021-01-11T21:51:47.890430",
     "exception": false,
     "start_time": "2021-01-11T21:51:45.947417",
     "status": "completed"
    },
    "tags": []
   },
   "outputs": [
    {
     "name": "stdout",
     "output_type": "stream",
     "text": [
      "cp: cannot stat '../input/rapids/rapids.0.12.0': No such file or directory\r\n",
      "tar (child): rapids.tar.gz: Cannot open: No such file or directory\r\n",
      "tar (child): Error is not recoverable: exiting now\r\n",
      "tar: Child returned status 2\r\n",
      "tar: Error is not recoverable: exiting now\r\n",
      "cp: cannot stat '/opt/conda/envs/rapids/lib/libxgboost.so': No such file or directory\r\n"
     ]
    }
   ],
   "source": [
    "import sys\n",
    "!cp ../input/rapids/rapids.0.12.0 /opt/conda/envs/rapids.tar.gz\n",
    "!cd /opt/conda/envs/ && tar -xzvf rapids.tar.gz > /dev/null\n",
    "sys.path = [\"/opt/conda/envs/rapids/lib/python3.6/site-packages\"] + sys.path\n",
    "sys.path = [\"/opt/conda/envs/rapids/lib/python3.6\"] + sys.path\n",
    "sys.path = [\"/opt/conda/envs/rapids/lib\"] + sys.path \n",
    "!cp /opt/conda/envs/rapids/lib/libxgboost.so /opt/conda/lib/"
   ]
  },
  {
   "cell_type": "code",
   "execution_count": 2,
   "metadata": {
    "_cell_guid": "79c7e3d0-c299-4dcb-8224-4455121ee9b0",
    "_uuid": "d629ff2d2480ee46fbb7e2d37f6b5fab8052498a",
    "execution": {
     "iopub.execute_input": "2021-01-11T21:51:47.922892Z",
     "iopub.status.busy": "2021-01-11T21:51:47.917229Z",
     "iopub.status.idle": "2021-01-11T21:52:01.955791Z",
     "shell.execute_reply": "2021-01-11T21:52:01.955253Z"
    },
    "papermill": {
     "duration": 14.058312,
     "end_time": "2021-01-11T21:52:01.955908",
     "exception": false,
     "start_time": "2021-01-11T21:51:47.897596",
     "status": "completed"
    },
    "tags": []
   },
   "outputs": [],
   "source": [
    "import numpy as np\n",
    "import pandas as pd\n",
    "import matplotlib.pyplot as plt\n",
    "from scipy.stats import mode\n",
    "from sklearn.metrics import f1_score, accuracy_score\n",
    "from cuml.neighbors import KNeighborsClassifier, NearestNeighbors\n",
    "\n",
    "\n",
    "def batching(df, batch_size):\n",
    "    df['group'] = df.groupby(df.index // batch_size,\n",
    "                             sort=False)['signal'].agg(['ngroup']).values\n",
    "    df['group'] = df['group'].astype(np.uint16)\n",
    "    return df\n",
    "\n",
    "\n",
    "def read_data():\n",
    "    train = pd.read_csv('/kaggle/input/data-without-drift/train_clean.csv',\n",
    "                        dtype={\n",
    "                            'time': np.float32,\n",
    "                            'signal': np.float32,\n",
    "                            'open_channels': np.int32\n",
    "                        })\n",
    "    test = pd.read_csv('/kaggle/input/data-without-drift/test_clean.csv',\n",
    "                       dtype={\n",
    "                           'time': np.float32,\n",
    "                           'signal': np.float32\n",
    "                       })\n",
    "    return train, test\n",
    "\n",
    "\n",
    "def lag_data(df):\n",
    "    df['fut_3'] = df.groupby('group')['signal'].shift(-3) * 0.25\n",
    "    df['fut_3'] = df.groupby('group')['signal'].shift(-2) * 0.5\n",
    "    df['fut_1'] = df.groupby('group')['signal'].shift(-1) * 1.0\n",
    "    df['current'] = df['signal'] * 4.0\n",
    "    df['lag_1'] = df.groupby('group')['signal'].shift(1) * 1.0\n",
    "    df['lag_2'] = df.groupby('group')['signal'].shift(2) * 0.5\n",
    "    df['lag_3'] = df.groupby('group')['signal'].shift(3) * 0.25\n",
    "    return df\n",
    "\n",
    "batch = 1000\n",
    "train, test = read_data()\n",
    "train = batching(train, batch)\n",
    "test = batching(test, batch)\n",
    "train = lag_data(train)\n",
    "test = lag_data(test)\n",
    "\n",
    "all_groups = train.group.unique()\n",
    "np.random.shuffle(all_groups)\n",
    "group_num = len(all_groups)\n",
    "\n",
    "features = ['fut_3', 'fut_1', 'current', 'lag_1', 'lag_2', 'lag_3']"
   ]
  },
  {
   "cell_type": "code",
   "execution_count": 3,
   "metadata": {
    "execution": {
     "iopub.execute_input": "2021-01-11T21:52:01.990816Z",
     "iopub.status.busy": "2021-01-11T21:52:01.989646Z",
     "iopub.status.idle": "2021-01-11T22:14:18.674567Z",
     "shell.execute_reply": "2021-01-11T22:14:18.675182Z"
    },
    "papermill": {
     "duration": 1336.71263,
     "end_time": "2021-01-11T22:14:18.675387",
     "exception": false,
     "start_time": "2021-01-11T21:52:01.962757",
     "status": "completed"
    },
    "tags": []
   },
   "outputs": [
    {
     "name": "stdout",
     "output_type": "stream",
     "text": [
      "Infering group 0\n",
      "data all set\n"
     ]
    },
    {
     "name": "stderr",
     "output_type": "stream",
     "text": [
      "/opt/conda/lib/python3.7/site-packages/cuml/common/input_utils.py:505: RuntimeWarning: invalid value encountered in less\n",
      "  (X < target_dtype_range.min) |\n",
      "/opt/conda/lib/python3.7/site-packages/cuml/common/input_utils.py:506: RuntimeWarning: invalid value encountered in greater\n",
      "  (X > target_dtype_range.max)\n"
     ]
    },
    {
     "name": "stdout",
     "output_type": "stream",
     "text": [
      "model fitted\n",
      "xtrain predicted\n",
      "xtrain stacked\n",
      "xtest predicted\n",
      "xtest stacked\n",
      "Infering group 1\n",
      "data all set\n",
      "model fitted\n",
      "xtrain predicted\n",
      "xtrain stacked\n",
      "xtest predicted\n",
      "xtest stacked\n",
      "Infering group 2\n",
      "data all set\n",
      "model fitted\n",
      "xtrain predicted\n",
      "xtrain stacked\n",
      "xtest predicted\n",
      "xtest stacked\n",
      "Infering group 3\n",
      "data all set\n",
      "model fitted\n",
      "xtrain predicted\n",
      "xtrain stacked\n",
      "xtest predicted\n",
      "xtest stacked\n",
      "Infering group 4\n",
      "data all set\n",
      "model fitted\n",
      "xtrain predicted\n",
      "xtrain stacked\n",
      "xtest predicted\n",
      "xtest stacked\n"
     ]
    }
   ],
   "source": [
    "KNN = 100\n",
    "for g in range(5):\n",
    "    print('Infering group %i' % g)\n",
    "\n",
    "    # TRAIN DATA\n",
    "    data = train[~train.group.isin(all_groups[int(group_num / 5 *\n",
    "                                                  g):int(group_num / 5 *\n",
    "                                                         (g + 1))])]\n",
    "    X_train = data[features].values\n",
    "    y_train = data.open_channels.values\n",
    "\n",
    "    # TRAIN PRE\n",
    "    data = train[train.group.isin(\n",
    "        all_groups[int(group_num / 5 * g):int(group_num / 5 * (g + 1))])]\n",
    "    X_train_pre_all = data.values\n",
    "    X_train_pre = data[features].values\n",
    "    y_train_pre = data.open_channels.values\n",
    "\n",
    "    # TEST\n",
    "    data = test\n",
    "    X_test_all = data.values\n",
    "    X_test = data[features].values\n",
    "\n",
    "    print('data all set')\n",
    "    model = NearestNeighbors(n_neighbors=KNN)\n",
    "    model.fit(X_train)\n",
    "    print('model fitted')\n",
    "\n",
    "    distances, indices = model.kneighbors(X_train_pre)\n",
    "    print('xtrain predicted')\n",
    "\n",
    "    temp = y_train[indices.astype(int)]\n",
    "    for i in range(11):\n",
    "        temp_re = np.array(distances * [temp == i][0]).mean(axis=1)\n",
    "        temp_re = temp_re.reshape(temp_re.shape[0], 1)\n",
    "        if i != 0:\n",
    "            train_pre_temp = np.hstack((train_pre_temp, temp_re))\n",
    "        else:\n",
    "            train_pre_temp = np.hstack((X_train_pre_all, temp_re))\n",
    "    train_pre_temp = np.hstack(\n",
    "        (train_pre_temp, y_train_pre.reshape(y_train_pre.shape[0], 1)))\n",
    "\n",
    "    try:\n",
    "        train_pre = np.vstack((train_pre, train_pre_temp))\n",
    "    except:\n",
    "        train_pre = train_pre_temp\n",
    "    print('xtrain stacked')\n",
    "\n",
    "    distances, indices = model.kneighbors(X_test)\n",
    "    print('xtest predicted')\n",
    "    temp = y_train[indices.astype(int)]\n",
    "    for i in range(11):\n",
    "        temp_re = np.array(distances * [temp == i][0]).mean(axis=1)\n",
    "        temp_re = temp_re.reshape(temp_re.shape[0], 1)\n",
    "        if i != 0:\n",
    "            test_pre_temp = np.hstack((test_pre_temp, temp_re))\n",
    "        else:\n",
    "            test_pre_temp = np.hstack((X_test_all, temp_re))\n",
    "\n",
    "    try:\n",
    "        test_pre = np.vstack((test_pre, test_pre_temp))\n",
    "    except:\n",
    "        test_pre = test_pre_temp\n",
    "    print('xtest stacked')"
   ]
  },
  {
   "cell_type": "code",
   "execution_count": 4,
   "metadata": {
    "execution": {
     "iopub.execute_input": "2021-01-11T22:14:18.714469Z",
     "iopub.status.busy": "2021-01-11T22:14:18.713652Z",
     "iopub.status.idle": "2021-01-11T22:14:18.981566Z",
     "shell.execute_reply": "2021-01-11T22:14:18.980576Z"
    },
    "papermill": {
     "duration": 0.289966,
     "end_time": "2021-01-11T22:14:18.981689",
     "exception": false,
     "start_time": "2021-01-11T22:14:18.691723",
     "status": "completed"
    },
    "tags": []
   },
   "outputs": [],
   "source": [
    "part_len = int(len(test_pre)/5)\n",
    "test_pre_temp = test_pre[:part_len]\n",
    "for i in range(1,5):\n",
    "    test_pre_temp += test_pre[part_len*i:part_len*(i+1)]\n",
    "test_pre_temp /= 5"
   ]
  },
  {
   "cell_type": "code",
   "execution_count": 5,
   "metadata": {
    "execution": {
     "iopub.execute_input": "2021-01-11T22:14:19.018353Z",
     "iopub.status.busy": "2021-01-11T22:14:19.017754Z",
     "iopub.status.idle": "2021-01-11T22:14:22.033521Z",
     "shell.execute_reply": "2021-01-11T22:14:22.034591Z"
    },
    "papermill": {
     "duration": 3.036984,
     "end_time": "2021-01-11T22:14:22.034764",
     "exception": false,
     "start_time": "2021-01-11T22:14:18.997780",
     "status": "completed"
    },
    "tags": []
   },
   "outputs": [],
   "source": [
    "np.save('knn_y_prob_train.npy',train_pre)\n",
    "np.save('knn_y_prob_test.npy',test_pre_temp)"
   ]
  }
 ],
 "metadata": {
  "kernelspec": {
   "display_name": "Python 3",
   "language": "python",
   "name": "python3"
  },
  "language_info": {
   "codemirror_mode": {
    "name": "ipython",
    "version": 3
   },
   "file_extension": ".py",
   "mimetype": "text/x-python",
   "name": "python",
   "nbconvert_exporter": "python",
   "pygments_lexer": "ipython3",
   "version": "3.7.6"
  },
  "papermill": {
   "duration": 1361.148606,
   "end_time": "2021-01-11T22:14:22.573985",
   "environment_variables": {},
   "exception": null,
   "input_path": "__notebook__.ipynb",
   "output_path": "__notebook__.ipynb",
   "parameters": {},
   "start_time": "2021-01-11T21:51:41.425379",
   "version": "2.1.0"
  }
 },
 "nbformat": 4,
 "nbformat_minor": 4
}
